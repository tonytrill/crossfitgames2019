{
 "cells": [
  {
   "cell_type": "markdown",
   "metadata": {},
   "source": [
    "# CrossFit Games Open 2019"
   ]
  },
  {
   "cell_type": "markdown",
   "metadata": {},
   "source": [
    "## Intro\n"
   ]
  },
  {
   "cell_type": "markdown",
   "metadata": {},
   "source": [
    "## Data Prep"
   ]
  },
  {
   "cell_type": "markdown",
   "metadata": {},
   "source": [
    "#### Read in Packages"
   ]
  },
  {
   "cell_type": "code",
   "execution_count": 1,
   "metadata": {},
   "outputs": [],
   "source": [
    "import pandas as pd\n",
    "from datetime import date"
   ]
  },
  {
   "cell_type": "markdown",
   "metadata": {},
   "source": [
    "#### Read in Last Year's Data"
   ]
  },
  {
   "cell_type": "code",
   "execution_count": 2,
   "metadata": {},
   "outputs": [],
   "source": [
    "athletes18 = pd.read_csv(\"/Users/silv6928/Data/athletes_2018.csv\")"
   ]
  },
  {
   "cell_type": "markdown",
   "metadata": {},
   "source": [
    "#### Read in This Year's Data"
   ]
  },
  {
   "cell_type": "markdown",
   "metadata": {},
   "source": [
    "Comments about scripts"
   ]
  },
  {
   "cell_type": "code",
   "execution_count": 3,
   "metadata": {},
   "outputs": [],
   "source": [
    "today = str(date.today())\n",
    "athletes19_men = pd.read_csv(\"/Users/silv6928/Data/athletes_men_2019_\"+ today + \".csv\")\n",
    "athletes19_women = pd.read_csv(\"/Users/silv6928/Data/athletes_women_2019_\"+ today + \".csv\")\n",
    "athletes19 = pd.concat([athletes19_men, athletes19_women], ignore_index = True)"
   ]
  },
  {
   "cell_type": "code",
   "execution_count": 4,
   "metadata": {},
   "outputs": [
    {
     "data": {
      "text/html": [
       "<div>\n",
       "<style scoped>\n",
       "    .dataframe tbody tr th:only-of-type {\n",
       "        vertical-align: middle;\n",
       "    }\n",
       "\n",
       "    .dataframe tbody tr th {\n",
       "        vertical-align: top;\n",
       "    }\n",
       "\n",
       "    .dataframe thead th {\n",
       "        text-align: right;\n",
       "    }\n",
       "</style>\n",
       "<table border=\"1\" class=\"dataframe\">\n",
       "  <thead>\n",
       "    <tr style=\"text-align: right;\">\n",
       "      <th></th>\n",
       "      <th>affiliateId</th>\n",
       "      <th>affiliateName</th>\n",
       "      <th>age</th>\n",
       "      <th>competitorId</th>\n",
       "      <th>competitorName</th>\n",
       "      <th>countryOfOriginCode</th>\n",
       "      <th>countryOfOriginName</th>\n",
       "      <th>divisionId</th>\n",
       "      <th>firstName</th>\n",
       "      <th>gender</th>\n",
       "      <th>height</th>\n",
       "      <th>lastName</th>\n",
       "      <th>postCompStatus</th>\n",
       "      <th>profilePicS3key</th>\n",
       "      <th>status</th>\n",
       "      <th>weight</th>\n",
       "    </tr>\n",
       "  </thead>\n",
       "  <tbody>\n",
       "    <tr>\n",
       "      <th>0</th>\n",
       "      <td>0</td>\n",
       "      <td>NaN</td>\n",
       "      <td>39</td>\n",
       "      <td>1565585</td>\n",
       "      <td>Cristian Giampapa</td>\n",
       "      <td>IT</td>\n",
       "      <td>Italy</td>\n",
       "      <td>18</td>\n",
       "      <td>Cristian</td>\n",
       "      <td>M</td>\n",
       "      <td>NaN</td>\n",
       "      <td>Giampapa</td>\n",
       "      <td>NaN</td>\n",
       "      <td>pukie.png</td>\n",
       "      <td>ACT</td>\n",
       "      <td>NaN</td>\n",
       "    </tr>\n",
       "    <tr>\n",
       "      <th>1</th>\n",
       "      <td>5360</td>\n",
       "      <td>CrossFit Siam</td>\n",
       "      <td>38</td>\n",
       "      <td>1208940</td>\n",
       "      <td>Tomas Jacso</td>\n",
       "      <td>DK</td>\n",
       "      <td>Denmark</td>\n",
       "      <td>18</td>\n",
       "      <td>Tomas</td>\n",
       "      <td>M</td>\n",
       "      <td>74.0</td>\n",
       "      <td>Jacso</td>\n",
       "      <td>NaN</td>\n",
       "      <td>pukie.png</td>\n",
       "      <td>ACT</td>\n",
       "      <td>190.0</td>\n",
       "    </tr>\n",
       "    <tr>\n",
       "      <th>2</th>\n",
       "      <td>358</td>\n",
       "      <td>CrossFit Rutherford</td>\n",
       "      <td>28</td>\n",
       "      <td>1384548</td>\n",
       "      <td>Louis Bunch</td>\n",
       "      <td>US</td>\n",
       "      <td>United States</td>\n",
       "      <td>1</td>\n",
       "      <td>Louis</td>\n",
       "      <td>M</td>\n",
       "      <td>NaN</td>\n",
       "      <td>Bunch</td>\n",
       "      <td>NaN</td>\n",
       "      <td>pukie.png</td>\n",
       "      <td>ACT</td>\n",
       "      <td>NaN</td>\n",
       "    </tr>\n",
       "    <tr>\n",
       "      <th>3</th>\n",
       "      <td>18510</td>\n",
       "      <td>CrossFit Woolwich</td>\n",
       "      <td>31</td>\n",
       "      <td>992771</td>\n",
       "      <td>Rob West</td>\n",
       "      <td>GB</td>\n",
       "      <td>United Kingdom</td>\n",
       "      <td>1</td>\n",
       "      <td>Rob</td>\n",
       "      <td>M</td>\n",
       "      <td>NaN</td>\n",
       "      <td>West</td>\n",
       "      <td>NaN</td>\n",
       "      <td>pukie.png</td>\n",
       "      <td>ACT</td>\n",
       "      <td>NaN</td>\n",
       "    </tr>\n",
       "    <tr>\n",
       "      <th>4</th>\n",
       "      <td>6543</td>\n",
       "      <td>Ravage CrossFit</td>\n",
       "      <td>46</td>\n",
       "      <td>1569294</td>\n",
       "      <td>David Smith</td>\n",
       "      <td>US</td>\n",
       "      <td>United States</td>\n",
       "      <td>3</td>\n",
       "      <td>David</td>\n",
       "      <td>M</td>\n",
       "      <td>NaN</td>\n",
       "      <td>Smith</td>\n",
       "      <td>NaN</td>\n",
       "      <td>pukie.png</td>\n",
       "      <td>ACT</td>\n",
       "      <td>NaN</td>\n",
       "    </tr>\n",
       "  </tbody>\n",
       "</table>\n",
       "</div>"
      ],
      "text/plain": [
       "   affiliateId        affiliateName  age  competitorId     competitorName  \\\n",
       "0            0                  NaN   39       1565585  Cristian Giampapa   \n",
       "1         5360        CrossFit Siam   38       1208940        Tomas Jacso   \n",
       "2          358  CrossFit Rutherford   28       1384548        Louis Bunch   \n",
       "3        18510    CrossFit Woolwich   31        992771           Rob West   \n",
       "4         6543      Ravage CrossFit   46       1569294        David Smith   \n",
       "\n",
       "  countryOfOriginCode countryOfOriginName  divisionId firstName gender  \\\n",
       "0                  IT               Italy          18  Cristian      M   \n",
       "1                  DK             Denmark          18     Tomas      M   \n",
       "2                  US       United States           1     Louis      M   \n",
       "3                  GB      United Kingdom           1       Rob      M   \n",
       "4                  US       United States           3     David      M   \n",
       "\n",
       "   height  lastName  postCompStatus profilePicS3key status  weight  \n",
       "0     NaN  Giampapa             NaN       pukie.png    ACT     NaN  \n",
       "1    74.0     Jacso             NaN       pukie.png    ACT   190.0  \n",
       "2     NaN     Bunch             NaN       pukie.png    ACT     NaN  \n",
       "3     NaN      West             NaN       pukie.png    ACT     NaN  \n",
       "4     NaN     Smith             NaN       pukie.png    ACT     NaN  "
      ]
     },
     "execution_count": 4,
     "metadata": {},
     "output_type": "execute_result"
    }
   ],
   "source": [
    "athletes18.head()\n",
    "athletes19.head()"
   ]
  },
  {
   "cell_type": "code",
   "execution_count": 5,
   "metadata": {},
   "outputs": [
    {
     "data": {
      "text/plain": [
       "399489"
      ]
     },
     "execution_count": 5,
     "metadata": {},
     "output_type": "execute_result"
    }
   ],
   "source": [
    "num_athletes18 = athletes18[\"competitorId\"].nunique()\n",
    "num_athletes18"
   ]
  },
  {
   "cell_type": "code",
   "execution_count": 6,
   "metadata": {},
   "outputs": [
    {
     "data": {
      "text/plain": [
       "40957"
      ]
     },
     "execution_count": 6,
     "metadata": {},
     "output_type": "execute_result"
    }
   ],
   "source": [
    "num_athletes19 = athletes19[\"competitorId\"].nunique()\n",
    "num_athletes19"
   ]
  },
  {
   "cell_type": "code",
   "execution_count": 7,
   "metadata": {},
   "outputs": [
    {
     "data": {
      "text/plain": [
       "10.252347373769991"
      ]
     },
     "execution_count": 7,
     "metadata": {},
     "output_type": "execute_result"
    }
   ],
   "source": [
    "# Number of People who signed up last year vs. Number of people who signed up so far in 2019\n",
    "(num_athletes19/num_athletes18)*100"
   ]
  }
 ],
 "metadata": {
  "kernelspec": {
   "display_name": "Python 3",
   "language": "python",
   "name": "python3"
  },
  "language_info": {
   "codemirror_mode": {
    "name": "ipython",
    "version": 3
   },
   "file_extension": ".py",
   "mimetype": "text/x-python",
   "name": "python",
   "nbconvert_exporter": "python",
   "pygments_lexer": "ipython3",
   "version": "3.7.1"
  }
 },
 "nbformat": 4,
 "nbformat_minor": 2
}
