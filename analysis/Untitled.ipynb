{
 "cells": [
  {
   "cell_type": "markdown",
   "metadata": {},
   "source": [
    "# CrossFit Games Open 2019"
   ]
  },
  {
   "cell_type": "markdown",
   "metadata": {},
   "source": [
    "## Data Prep"
   ]
  },
  {
   "cell_type": "markdown",
   "metadata": {},
   "source": [
    "#### Read in Packages"
   ]
  },
  {
   "cell_type": "code",
   "execution_count": 6,
   "metadata": {},
   "outputs": [],
   "source": [
    "import pandas as pd\n",
    "from datetime import date"
   ]
  },
  {
   "cell_type": "markdown",
   "metadata": {},
   "source": [
    "#### Read in Last Year's Data"
   ]
  },
  {
   "cell_type": "code",
   "execution_count": 3,
   "metadata": {},
   "outputs": [],
   "source": [
    "athletes18 = pd.read_csv(\"/Users/silv6928/Data/athletes_2018.csv\")"
   ]
  },
  {
   "cell_type": "markdown",
   "metadata": {},
   "source": [
    "#### Read in This Year's Data"
   ]
  },
  {
   "cell_type": "code",
   "execution_count": 13,
   "metadata": {},
   "outputs": [],
   "source": [
    "today = str(date.today())\n",
    "athletes19_men = pd.read_csv(\"/Users/silv6928/Data/athletes_men_2019_\"+ today + \".csv\")\n",
    "athletes19_women = pd.read_csv(\"/Users/silv6928/Data/athletes_women_2019_\"+ today + \".csv\")\n",
    "athletes19 = pd.concat([athletes19_men, athletes19_women], ignore_index = True)"
   ]
  },
  {
   "cell_type": "code",
   "execution_count": 14,
   "metadata": {},
   "outputs": [
    {
     "data": {
      "text/html": [
       "<div>\n",
       "<style scoped>\n",
       "    .dataframe tbody tr th:only-of-type {\n",
       "        vertical-align: middle;\n",
       "    }\n",
       "\n",
       "    .dataframe tbody tr th {\n",
       "        vertical-align: top;\n",
       "    }\n",
       "\n",
       "    .dataframe thead th {\n",
       "        text-align: right;\n",
       "    }\n",
       "</style>\n",
       "<table border=\"1\" class=\"dataframe\">\n",
       "  <thead>\n",
       "    <tr style=\"text-align: right;\">\n",
       "      <th></th>\n",
       "      <th>affiliateId</th>\n",
       "      <th>affiliateName</th>\n",
       "      <th>age</th>\n",
       "      <th>competitorId</th>\n",
       "      <th>competitorName</th>\n",
       "      <th>countryOfOriginCode</th>\n",
       "      <th>countryOfOriginName</th>\n",
       "      <th>divisionId</th>\n",
       "      <th>firstName</th>\n",
       "      <th>gender</th>\n",
       "      <th>height</th>\n",
       "      <th>lastName</th>\n",
       "      <th>postCompStatus</th>\n",
       "      <th>profilePicS3key</th>\n",
       "      <th>status</th>\n",
       "      <th>weight</th>\n",
       "    </tr>\n",
       "  </thead>\n",
       "  <tbody>\n",
       "    <tr>\n",
       "      <th>0</th>\n",
       "      <td>9438</td>\n",
       "      <td>CrossFit 83 Le Beausset</td>\n",
       "      <td>35</td>\n",
       "      <td>1331852</td>\n",
       "      <td>Julien Holt</td>\n",
       "      <td>FR</td>\n",
       "      <td>France</td>\n",
       "      <td>18</td>\n",
       "      <td>Julien</td>\n",
       "      <td>M</td>\n",
       "      <td>NaN</td>\n",
       "      <td>Holt</td>\n",
       "      <td>NaN</td>\n",
       "      <td>pukie.png</td>\n",
       "      <td>ACT</td>\n",
       "      <td>NaN</td>\n",
       "    </tr>\n",
       "    <tr>\n",
       "      <th>1</th>\n",
       "      <td>1713</td>\n",
       "      <td>CrossFit 516</td>\n",
       "      <td>33</td>\n",
       "      <td>1211376</td>\n",
       "      <td>Tim Gritzman</td>\n",
       "      <td>US</td>\n",
       "      <td>United States</td>\n",
       "      <td>1</td>\n",
       "      <td>Tim</td>\n",
       "      <td>M</td>\n",
       "      <td>75.0</td>\n",
       "      <td>Gritzman</td>\n",
       "      <td>NaN</td>\n",
       "      <td>pukie.png</td>\n",
       "      <td>ACT</td>\n",
       "      <td>240.0</td>\n",
       "    </tr>\n",
       "    <tr>\n",
       "      <th>2</th>\n",
       "      <td>5400</td>\n",
       "      <td>CrossFit Northwest Paterna</td>\n",
       "      <td>48</td>\n",
       "      <td>1563323</td>\n",
       "      <td>Migue Salcedo</td>\n",
       "      <td>ES</td>\n",
       "      <td>Spain</td>\n",
       "      <td>3</td>\n",
       "      <td>Migue</td>\n",
       "      <td>M</td>\n",
       "      <td>NaN</td>\n",
       "      <td>Salcedo</td>\n",
       "      <td>NaN</td>\n",
       "      <td>pukie.png</td>\n",
       "      <td>ACT</td>\n",
       "      <td>NaN</td>\n",
       "    </tr>\n",
       "    <tr>\n",
       "      <th>3</th>\n",
       "      <td>1325</td>\n",
       "      <td>CrossFit Fayetteville</td>\n",
       "      <td>23</td>\n",
       "      <td>1277410</td>\n",
       "      <td>Corey Rees</td>\n",
       "      <td>US</td>\n",
       "      <td>United States</td>\n",
       "      <td>1</td>\n",
       "      <td>Corey</td>\n",
       "      <td>M</td>\n",
       "      <td>NaN</td>\n",
       "      <td>Rees</td>\n",
       "      <td>NaN</td>\n",
       "      <td>pukie.png</td>\n",
       "      <td>ACT</td>\n",
       "      <td>NaN</td>\n",
       "    </tr>\n",
       "    <tr>\n",
       "      <th>4</th>\n",
       "      <td>7028</td>\n",
       "      <td>CrossFit Queen Street</td>\n",
       "      <td>25</td>\n",
       "      <td>682509</td>\n",
       "      <td>Jordan Anderson</td>\n",
       "      <td>CA</td>\n",
       "      <td>Canada</td>\n",
       "      <td>1</td>\n",
       "      <td>Jordan</td>\n",
       "      <td>M</td>\n",
       "      <td>71.0</td>\n",
       "      <td>Anderson</td>\n",
       "      <td>NaN</td>\n",
       "      <td>pukie.png</td>\n",
       "      <td>ACT</td>\n",
       "      <td>200.0</td>\n",
       "    </tr>\n",
       "  </tbody>\n",
       "</table>\n",
       "</div>"
      ],
      "text/plain": [
       "   affiliateId               affiliateName  age  competitorId  \\\n",
       "0         9438     CrossFit 83 Le Beausset   35       1331852   \n",
       "1         1713                CrossFit 516   33       1211376   \n",
       "2         5400  CrossFit Northwest Paterna   48       1563323   \n",
       "3         1325       CrossFit Fayetteville   23       1277410   \n",
       "4         7028       CrossFit Queen Street   25        682509   \n",
       "\n",
       "    competitorName countryOfOriginCode countryOfOriginName  divisionId  \\\n",
       "0      Julien Holt                  FR              France          18   \n",
       "1     Tim Gritzman                  US       United States           1   \n",
       "2    Migue Salcedo                  ES               Spain           3   \n",
       "3       Corey Rees                  US       United States           1   \n",
       "4  Jordan Anderson                  CA              Canada           1   \n",
       "\n",
       "  firstName gender  height  lastName  postCompStatus profilePicS3key status  \\\n",
       "0    Julien      M     NaN      Holt             NaN       pukie.png    ACT   \n",
       "1       Tim      M    75.0  Gritzman             NaN       pukie.png    ACT   \n",
       "2     Migue      M     NaN   Salcedo             NaN       pukie.png    ACT   \n",
       "3     Corey      M     NaN      Rees             NaN       pukie.png    ACT   \n",
       "4    Jordan      M    71.0  Anderson             NaN       pukie.png    ACT   \n",
       "\n",
       "   weight  \n",
       "0     NaN  \n",
       "1   240.0  \n",
       "2     NaN  \n",
       "3     NaN  \n",
       "4   200.0  "
      ]
     },
     "execution_count": 14,
     "metadata": {},
     "output_type": "execute_result"
    }
   ],
   "source": [
    "athletes18.head()\n",
    "athletes19.head()"
   ]
  },
  {
   "cell_type": "code",
   "execution_count": null,
   "metadata": {},
   "outputs": [],
   "source": []
  }
 ],
 "metadata": {
  "kernelspec": {
   "display_name": "Python 3",
   "language": "python",
   "name": "python3"
  },
  "language_info": {
   "codemirror_mode": {
    "name": "ipython",
    "version": 3
   },
   "file_extension": ".py",
   "mimetype": "text/x-python",
   "name": "python",
   "nbconvert_exporter": "python",
   "pygments_lexer": "ipython3",
   "version": "3.7.1"
  }
 },
 "nbformat": 4,
 "nbformat_minor": 2
}
